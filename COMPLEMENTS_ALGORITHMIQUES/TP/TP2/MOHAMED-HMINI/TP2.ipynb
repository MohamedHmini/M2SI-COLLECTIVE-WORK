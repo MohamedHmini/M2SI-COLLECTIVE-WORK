{
 "cells": [
  {
   "cell_type": "markdown",
   "metadata": {},
   "source": [
    "## EXERCICE 1 :"
   ]
  },
  {
   "cell_type": "code",
   "execution_count": 4,
   "metadata": {},
   "outputs": [],
   "source": [
    "def line(n):\n",
    "    print('*' * n)\n",
    "    pass"
   ]
  },
  {
   "cell_type": "code",
   "execution_count": 5,
   "metadata": {},
   "outputs": [
    {
     "name": "stdout",
     "output_type": "stream",
     "text": [
      "*****\n"
     ]
    }
   ],
   "source": [
    "line(5)"
   ]
  },
  {
   "cell_type": "markdown",
   "metadata": {},
   "source": [
    "## EXERCICE 2 :"
   ]
  },
  {
   "cell_type": "code",
   "execution_count": 6,
   "metadata": {},
   "outputs": [],
   "source": [
    "def semi_pyramid(n):\n",
    "    \n",
    "    for i in range(n):\n",
    "        line(i)\n",
    "    \n",
    "    pass"
   ]
  },
  {
   "cell_type": "code",
   "execution_count": 7,
   "metadata": {},
   "outputs": [
    {
     "name": "stdout",
     "output_type": "stream",
     "text": [
      "\n",
      "*\n",
      "**\n",
      "***\n",
      "****\n",
      "*****\n",
      "******\n",
      "*******\n",
      "********\n",
      "*********\n"
     ]
    }
   ],
   "source": [
    "semi_pyramid(10)"
   ]
  },
  {
   "cell_type": "markdown",
   "metadata": {},
   "source": [
    "## EXERCICE 3 :"
   ]
  },
  {
   "cell_type": "code",
   "execution_count": 8,
   "metadata": {},
   "outputs": [],
   "source": [
    "import math\n",
    "\n",
    "\n",
    "def sign(i):\n",
    "    return True if i >= 0 else False    \n",
    "    pass\n",
    "\n",
    "def is_prime_number(n):\n",
    "    \n",
    "    i = 2\n",
    "\n",
    "    while i <= math.sqrt(n):\n",
    "        \n",
    "        if n%i == 0:\n",
    "            return False\n",
    "        i += 1\n",
    "        \n",
    "        pass\n",
    "    \n",
    "    return True\n",
    "    \n",
    "    pass\n",
    "\n",
    "\n",
    "def test_numbers():\n",
    "        \n",
    "    while True:\n",
    "        \n",
    "        i = int(input(\"TEST NUMBER : \"))\n",
    "        done = not sign(i)\n",
    "        \n",
    "        if done:\n",
    "            break;\n",
    "        \n",
    "        is_prime = is_prime_number(i)\n",
    "        print(\"IS PRIME NUMBER : \" + str(is_prime))\n",
    "        \n",
    "        pass\n",
    "    \n",
    "    pass"
   ]
  },
  {
   "cell_type": "code",
   "execution_count": 9,
   "metadata": {},
   "outputs": [
    {
     "name": "stdout",
     "output_type": "stream",
     "text": [
      "TEST NUMBER : 10\n",
      "IS PRIME NUMBER : False\n",
      "TEST NUMBER : 5\n",
      "IS PRIME NUMBER : True\n",
      "TEST NUMBER : 7\n",
      "IS PRIME NUMBER : True\n",
      "TEST NUMBER : -1\n"
     ]
    }
   ],
   "source": [
    "test_numbers()"
   ]
  },
  {
   "cell_type": "markdown",
   "metadata": {},
   "source": [
    "## EXERCICE 4:"
   ]
  },
  {
   "cell_type": "code",
   "execution_count": 10,
   "metadata": {},
   "outputs": [],
   "source": [
    "import math\n",
    "\n",
    "\n",
    "def sum_of_divisors(n):\n",
    "    \n",
    "    i = 2\n",
    "    divisors_factor = 0\n",
    "    \n",
    "    while i <= math.sqrt(n):\n",
    "        \n",
    "        if n%i == 0:\n",
    "            divisors_factor += 1\n",
    "        i += 1\n",
    "        pass\n",
    "    \n",
    "    return divisors_factor    \n",
    "    \n",
    "    \n",
    "    pass\n",
    "\n",
    "\n",
    "def is_perfect(n):    \n",
    "    return n == sum_of_divisors(n)    \n",
    "    pass\n",
    "\n",
    "def are_friends(a,b):\n",
    "    return sum_of_divisors(a) == sum_of_divisors(b)    \n",
    "    pass\n"
   ]
  },
  {
   "cell_type": "markdown",
   "metadata": {},
   "source": [
    "## EXERCICE 5:"
   ]
  },
  {
   "cell_type": "code",
   "execution_count": 11,
   "metadata": {},
   "outputs": [],
   "source": [
    "def int_to(n, base = 2, r = []):\n",
    "    \n",
    "    if n == 0:\n",
    "        r.reverse()\n",
    "        return r\n",
    "    \n",
    "    r.append(n%base)\n",
    "    return int_to(int(n/base), base, r)\n",
    "    \n",
    "    pass\n"
   ]
  },
  {
   "cell_type": "code",
   "execution_count": 12,
   "metadata": {},
   "outputs": [
    {
     "data": {
      "text/plain": [
       "[1, 0, 2, 3, 0, 2]"
      ]
     },
     "execution_count": 12,
     "metadata": {},
     "output_type": "execute_result"
    }
   ],
   "source": [
    "int_to(3452, 5, [])"
   ]
  },
  {
   "cell_type": "markdown",
   "metadata": {},
   "source": [
    "## EXERCICE 6:"
   ]
  },
  {
   "cell_type": "code",
   "execution_count": 13,
   "metadata": {},
   "outputs": [],
   "source": [
    "def fib(n):\n",
    "    \n",
    "    if n <= 1:\n",
    "        return n\n",
    "    \n",
    "    return fib(n - 1) + fib(n - 2)\n",
    "    \n",
    "    pass"
   ]
  },
  {
   "cell_type": "code",
   "execution_count": 14,
   "metadata": {},
   "outputs": [
    {
     "name": "stdout",
     "output_type": "stream",
     "text": [
      "0\n",
      "1\n",
      "1\n",
      "2\n",
      "3\n",
      "5\n",
      "8\n",
      "13\n",
      "21\n",
      "34\n"
     ]
    }
   ],
   "source": [
    "for i in range(10):\n",
    "    print(fib(i))"
   ]
  },
  {
   "cell_type": "markdown",
   "metadata": {},
   "source": [
    "## EXERCICE 7:"
   ]
  },
  {
   "cell_type": "code",
   "execution_count": 15,
   "metadata": {},
   "outputs": [],
   "source": [
    "\n",
    "def egyptian_multiplication(m,n):\n",
    "    \n",
    "    i = m\n",
    "    j = n\n",
    "    \n",
    "    r = 0\n",
    "    \n",
    "    while i is not 0:\n",
    "        \n",
    "        if i % 2 == 0:\n",
    "            i = int(i/2)\n",
    "            j = 2*j\n",
    "            pass\n",
    "        else:\n",
    "            i = i - 1\n",
    "            r = j\n",
    "            pass\n",
    "        \n",
    "        pass\n",
    "    \n",
    "    return r\n",
    "    \n",
    "    pass"
   ]
  },
  {
   "cell_type": "code",
   "execution_count": 16,
   "metadata": {},
   "outputs": [
    {
     "data": {
      "text/plain": [
       "16"
      ]
     },
     "execution_count": 16,
     "metadata": {},
     "output_type": "execute_result"
    }
   ],
   "source": [
    "egyptian_multiplication(4,4)"
   ]
  },
  {
   "cell_type": "markdown",
   "metadata": {},
   "source": [
    "## EXERCICE 8:"
   ]
  },
  {
   "cell_type": "code",
   "execution_count": 17,
   "metadata": {},
   "outputs": [],
   "source": [
    "def full_pyramid_line(base, n):\n",
    "    print(\" \"*n + \"*\" + \"*\" *(base - n)*2)\n",
    "    pass\n",
    "\n",
    "\n",
    "def pyramid(base, n = -1):\n",
    "    \n",
    "    if n == -1:\n",
    "        n = base\n",
    "    elif n == 0:\n",
    "        return;\n",
    "    \n",
    "    full_pyramid_line(base, n)\n",
    "    \n",
    "    pyramid(base, n-1)\n",
    "    \n",
    "    pass"
   ]
  },
  {
   "cell_type": "code",
   "execution_count": 18,
   "metadata": {},
   "outputs": [
    {
     "name": "stdout",
     "output_type": "stream",
     "text": [
      "          *\n",
      "         ***\n",
      "        *****\n",
      "       *******\n",
      "      *********\n",
      "     ***********\n",
      "    *************\n",
      "   ***************\n",
      "  *****************\n",
      " *******************\n"
     ]
    }
   ],
   "source": [
    "pyramid(10)"
   ]
  },
  {
   "cell_type": "code",
   "execution_count": null,
   "metadata": {},
   "outputs": [],
   "source": []
  },
  {
   "cell_type": "code",
   "execution_count": null,
   "metadata": {},
   "outputs": [],
   "source": []
  },
  {
   "cell_type": "code",
   "execution_count": null,
   "metadata": {},
   "outputs": [],
   "source": []
  }
 ],
 "metadata": {
  "kernelspec": {
   "display_name": "Python 3",
   "language": "python",
   "name": "python3"
  },
  "language_info": {
   "codemirror_mode": {
    "name": "ipython",
    "version": 3
   },
   "file_extension": ".py",
   "mimetype": "text/x-python",
   "name": "python",
   "nbconvert_exporter": "python",
   "pygments_lexer": "ipython3",
   "version": "3.7.0"
  }
 },
 "nbformat": 4,
 "nbformat_minor": 2
}
