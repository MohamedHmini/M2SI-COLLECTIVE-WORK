{
 "cells": [
  {
   "cell_type": "markdown",
   "metadata": {},
   "source": [
    "## EXERCICE 3:"
   ]
  },
  {
   "cell_type": "code",
   "execution_count": null,
   "metadata": {},
   "outputs": [],
   "source": [
    "a = 6 < 5\n",
    "b = 3\n",
    "\n",
    "print(not(a) and not(b + 1 < 3))\n",
    "print(False or (a and not(not(a) or not(b>0))))"
   ]
  },
  {
   "cell_type": "markdown",
   "metadata": {},
   "source": [
    "## EXERCICE 4:"
   ]
  },
  {
   "cell_type": "code",
   "execution_count": null,
   "metadata": {},
   "outputs": [],
   "source": [
    "bool_table = [True, False]\n",
    "truth_tables = [[],[],[]]\n",
    "\n",
    "truth_tables[0] = [not(not(a and b) or False) for a in bool_table for b in bool_table]\n",
    "truth_tables[1] = [not(not(not(a) and b) and not(a and not(b))) for a in bool_table for b in bool_table]\n",
    "truth_tables[2] = [not(a) or b for a in bool_table for b in bool_table]\n",
    "\n",
    "truth_tables"
   ]
  },
  {
   "cell_type": "markdown",
   "metadata": {},
   "source": [
    "## EXERCICE 5:"
   ]
  },
  {
   "cell_type": "code",
   "execution_count": null,
   "metadata": {},
   "outputs": [],
   "source": [
    "\n",
    "def get_time():\n",
    "\n",
    "    hours = int(input(\"HOURS : \"))\n",
    "    mins = int(input(\"MINUTES : \"))\n",
    "    secs = int(input(\"SECONDS : \"))\n",
    "    \n",
    "    return [hours, mins, secs]\n",
    "    \n",
    "    pass\n",
    "\n",
    "\n",
    "def get_total_secs(hours, mins, secs):\n",
    "    \n",
    "    total_secs = hours*60*60 + mins*60 + secs    \n",
    "    return total_secs\n",
    "    \n",
    "    pass\n",
    "\n",
    "\n",
    "def get_total_mins(hours, mins, secs):\n",
    "    \n",
    "    total_mins = hours*60 + mins + int(secs/60)\n",
    "    return total_mins\n",
    "    \n",
    "    pass\n",
    "\n",
    "\n",
    "def get_total_hours(hours, mins, secs):\n",
    "    \n",
    "    total_hours = hours + int(mins/60) + int((secs/60)/60)\n",
    "    return total_hours  \n",
    "        \n",
    "    pass\n",
    "\n",
    "\n",
    "time = get_time()\n",
    "\n",
    "\n",
    "print(\"TOTAL SECONDS : \" + str(get_total_secs(time[0], time[1], time[2])))\n",
    "print(\"TOTAL MINUTES : \" + str(get_total_mins(time[0], time[1], time[2])))\n"
   ]
  },
  {
   "cell_type": "markdown",
   "metadata": {},
   "source": [
    "## EXERCICE 6 et 7:"
   ]
  },
  {
   "cell_type": "code",
   "execution_count": null,
   "metadata": {},
   "outputs": [],
   "source": [
    "time1 = get_time()\n",
    "time2 = get_time()\n",
    "\n",
    "secs1 = get_total_secs(time1[0], time1[1], time1[2])\n",
    "secs2 = get_total_secs(time2[0], time2[1], time2[2])\n",
    "\n",
    "mins1 = get_total_mins(time1[0], time1[1], time1[2])\n",
    "mins2 = get_total_mins(time2[0], time2[1], time2[2])\n",
    "\n",
    "hours1 = get_total_hours(time1[0], time1[1], time1[2])\n",
    "hours2 = get_total_hours(time2[0], time2[1], time2[2])\n",
    "\n",
    "\n",
    "print(\"DIFF SECS : \" + str(secs1-secs2 if secs1 > secs2 else secs2 - secs1))\n",
    "print(\"DIFF MINS : \" + str(mins1-mins2 if mins1 > mins2 else mins2 - mins1))\n",
    "print(\"DIFF HOURS : \" + str(hours1-hours2 if hours1 > hours2 else hours2 - hours1))\n"
   ]
  },
  {
   "cell_type": "markdown",
   "metadata": {},
   "source": [
    "## EXERCICE 8:"
   ]
  },
  {
   "cell_type": "code",
   "execution_count": null,
   "metadata": {},
   "outputs": [],
   "source": [
    "small = int(input(\"NUM1 : \"))\n",
    "big = int(input(\"NUM2 : \"))\n",
    "\n",
    "small, big = [small, big] if small < big else [big, small]\n",
    "\n",
    "\n",
    "print(\"SMALL : \" + str(small))\n",
    "print(\"BIG : \" + str(big))"
   ]
  },
  {
   "cell_type": "markdown",
   "metadata": {},
   "source": [
    "## EXERCICE 9:"
   ]
  },
  {
   "cell_type": "code",
   "execution_count": null,
   "metadata": {},
   "outputs": [],
   "source": [
    "def read_n_num(n = 3):\n",
    "    \n",
    "    nums = [int(input(\"NUM\" + str(i+1) + \":\")) for i in range(n)]\n",
    "    return nums\n",
    "\n",
    "    pass\n"
   ]
  },
  {
   "cell_type": "code",
   "execution_count": null,
   "metadata": {},
   "outputs": [],
   "source": [
    "sorted_nums_list = read_n_num(4)\n",
    "sorted_nums_list.sort()\n",
    "sorted_nums_list"
   ]
  },
  {
   "cell_type": "markdown",
   "metadata": {},
   "source": [
    "## EXERCICE 10: "
   ]
  },
  {
   "cell_type": "code",
   "execution_count": null,
   "metadata": {},
   "outputs": [],
   "source": [
    "\n",
    "def price_reasoning(X):\n",
    "    \n",
    "    # i'm lazy to construct the whole tree\n",
    "    price = 0\n",
    "    return price\n",
    "    \n",
    "    pass\n",
    "\n",
    "\n",
    "\n",
    "\n",
    "X = [\n",
    "    bool(input(\"SKIS AVEC CHAUSSURE?\")), \n",
    "    bool(input(\"A LA JOURNEE?\")), \n",
    "    bool(input(\"ADULTE?\"))\n",
    "]\n",
    "\n",
    "\n",
    "\n"
   ]
  },
  {
   "cell_type": "markdown",
   "metadata": {},
   "source": [
    "## EXERCICE 11 :"
   ]
  },
  {
   "cell_type": "code",
   "execution_count": null,
   "metadata": {},
   "outputs": [],
   "source": [
    "\n",
    "# pow()\n",
    "def pow_n(i, n):    \n",
    "    return 1 if n == 0 else pow_n(i, n - 1) * i\n",
    "\n",
    "i = int(input(\"VAL : \"))\n",
    "n = int(input(\"POW : \"))\n",
    "\n",
    "print(\"THE \" + str(n) + \"th POWER OF \" + str(i) + \" IS \" + str(pow_n(i, n)))\n"
   ]
  },
  {
   "cell_type": "markdown",
   "metadata": {},
   "source": [
    "## EXERCICE 12 :"
   ]
  },
  {
   "cell_type": "code",
   "execution_count": null,
   "metadata": {},
   "outputs": [],
   "source": [
    "import math\n",
    "\n",
    "\n",
    "def get_point():\n",
    "    return tuple(map(int,input().split(\",\")))\n",
    "    pass\n",
    "\n",
    "\n",
    "def calculate_distance(p1, p2):\n",
    "    \n",
    "    s = 0\n",
    "\n",
    "    for i,j in zip(p1,p2):\n",
    "        s = pow(i + j, 2)\n",
    "        pass\n",
    "\n",
    "    dist = math.sqrt(s)\n",
    "    \n",
    "    return dist\n",
    "    pass\n",
    "\n",
    "p1, p2 = get_point(),get_point()\n",
    "calculate_distance(p1,p2)"
   ]
  },
  {
   "cell_type": "code",
   "execution_count": null,
   "metadata": {},
   "outputs": [],
   "source": [
    "\n",
    "def generate_circle():\n",
    "    \n",
    "    center = get_point()\n",
    "    rayon = int(input())\n",
    "    \n",
    "    return center, rayon\n",
    "    \n",
    "    pass\n",
    "\n",
    "\n",
    "center, rayon = generate_circle()\n",
    "test_point = get_point()\n",
    "\n",
    "dist_from_center = calculate_distance(center, test_point)\n",
    "\n",
    "\"INSIDE\" if dist_from_center <= rayon else \"OUTSIDE\"\n"
   ]
  },
  {
   "cell_type": "code",
   "execution_count": null,
   "metadata": {},
   "outputs": [],
   "source": [
    "c1, c2 = generate_circle(), generate_circle()\n",
    "test_point = get_point()\n",
    "\n",
    "dist1, dist2 = calculate_distance(c1[0], test_point), calculate_distance(c2[0], test_point)\n",
    "\n",
    "\"BELONGS TO THE INTERSECTION\" if dist1 <= c1[1] and dist2 <= c2[1] else \"NOT IN THE INTERSECTION\""
   ]
  },
  {
   "cell_type": "markdown",
   "metadata": {},
   "source": [
    "## EXERCICE 13 :"
   ]
  },
  {
   "cell_type": "code",
   "execution_count": null,
   "metadata": {},
   "outputs": [],
   "source": [
    "import math\n",
    "\n",
    "a,b,c = [int(input()) for i in range(3)]\n",
    "\n",
    "\n",
    "def delta(a, b, c):\n",
    "    \n",
    "    d = b**2 - 4*a*c\n",
    "    return d\n",
    "    \n",
    "    pass\n",
    "\n",
    "\n",
    "def roots_nbr(a, b, c):\n",
    "    \n",
    "    d = delta(a, b ,c)\n",
    "    nbr = 2 if d > 0 else 1 if d == 0 else 0\n",
    "    return (nbr,d)   \n",
    "    \n",
    "    pass\n",
    "\n",
    "\n",
    "\n",
    "def calculate_roots(a, b, c):\n",
    "    \n",
    "    nbr, d = roots_nbr(a, b, c)\n",
    "    \n",
    "    roots = (-b/2*a) if nbr == 0 else ( (-b - math.sqrt(d))/2*a, (-b + math.sqrt(d))/2*a )\n",
    "    \n",
    "    return roots\n",
    "    \n",
    "    pass\n",
    "\n",
    "\n",
    "calculate_roots(a,b,c)"
   ]
  },
  {
   "cell_type": "markdown",
   "metadata": {},
   "source": [
    "## EXERCICE 14 :"
   ]
  },
  {
   "cell_type": "code",
   "execution_count": null,
   "metadata": {},
   "outputs": [],
   "source": [
    "rect_dimensions = tuple(map(int,input().split(\",\")))\n",
    "\n",
    "print(\"1 - calculate the perimeter.\")\n",
    "print(\"2 - calculate the surface.\")\n",
    "\n",
    "choice = input(\"your choice : \")\n",
    "\n",
    "r = rect_dimensions[0] * rect_dimensions[1] if choice == 2 else rect_dimensions[0]*2 + rect_dimensions[1]*2\n",
    "r"
   ]
  },
  {
   "cell_type": "markdown",
   "metadata": {},
   "source": [
    "## EXERCICE 15 :"
   ]
  },
  {
   "cell_type": "code",
   "execution_count": 1,
   "metadata": {},
   "outputs": [
    {
     "name": "stdout",
     "output_type": "stream",
     "text": [
      "reduction : 10\n",
      "price : 155\n",
      "139.5\n"
     ]
    }
   ],
   "source": [
    "def percent(x, price):\n",
    "    \n",
    "    return x/100 * price\n",
    "    \n",
    "    pass\n",
    "\n",
    "\n",
    "def solde(reduction, price):\n",
    "    \n",
    "    new_price = price - percent(reduction, price)\n",
    "    print(new_price)\n",
    "    \n",
    "    pass\n",
    "\n",
    "new_price = solde(int(input(\"reduction : \")), int(input(\"price : \")))\n",
    "new_price"
   ]
  },
  {
   "cell_type": "code",
   "execution_count": null,
   "metadata": {},
   "outputs": [],
   "source": []
  },
  {
   "cell_type": "code",
   "execution_count": null,
   "metadata": {},
   "outputs": [],
   "source": []
  }
 ],
 "metadata": {
  "kernelspec": {
   "display_name": "Python 3",
   "language": "python",
   "name": "python3"
  },
  "language_info": {
   "codemirror_mode": {
    "name": "ipython",
    "version": 3
   },
   "file_extension": ".py",
   "mimetype": "text/x-python",
   "name": "python",
   "nbconvert_exporter": "python",
   "pygments_lexer": "ipython3",
   "version": "3.7.0"
  }
 },
 "nbformat": 4,
 "nbformat_minor": 2
}
