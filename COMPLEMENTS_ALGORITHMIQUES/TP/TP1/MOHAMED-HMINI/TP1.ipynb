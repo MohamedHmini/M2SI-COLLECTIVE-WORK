{
 "cells": [
  {
   "cell_type": "markdown",
   "metadata": {},
   "source": [
    "## EXERCICE 3:"
   ]
  },
  {
   "cell_type": "code",
   "execution_count": 2,
   "metadata": {},
   "outputs": [
    {
     "name": "stdout",
     "output_type": "stream",
     "text": [
      "True\n",
      "False\n"
     ]
    }
   ],
   "source": [
    "a = 6 < 5\n",
    "b = 3\n",
    "\n",
    "print(not(a) and not(b + 1 < 3))\n",
    "print(False or (a and not(not(a) or not(b>0))))"
   ]
  },
  {
   "cell_type": "markdown",
   "metadata": {},
   "source": [
    "## EXERCICE 4:"
   ]
  },
  {
   "cell_type": "code",
   "execution_count": 3,
   "metadata": {},
   "outputs": [
    {
     "data": {
      "text/plain": [
       "[[True, False, False, False],\n",
       " [False, True, True, False],\n",
       " [True, False, True, True]]"
      ]
     },
     "execution_count": 3,
     "metadata": {},
     "output_type": "execute_result"
    }
   ],
   "source": [
    "bool_table = [True, False]\n",
    "truth_tables = [[],[],[]]\n",
    "\n",
    "truth_tables[0] = [not(not(a and b) or False) for a in bool_table for b in bool_table]\n",
    "truth_tables[1] = [not(not(not(a) and b) and not(a and not(b))) for a in bool_table for b in bool_table]\n",
    "truth_tables[2] = [not(a) or b for a in bool_table for b in bool_table]\n",
    "\n",
    "truth_tables"
   ]
  },
  {
   "cell_type": "markdown",
   "metadata": {},
   "source": [
    "## EXERCICE 5:"
   ]
  },
  {
   "cell_type": "code",
   "execution_count": 4,
   "metadata": {},
   "outputs": [
    {
     "name": "stdout",
     "output_type": "stream",
     "text": [
      "HOURS : 10\n",
      "MINUTES : 4\n",
      "SECONDS : 5\n",
      "TOTAL SECONDS : 36245\n",
      "TOTAL MINUTES : 604\n"
     ]
    }
   ],
   "source": [
    "\n",
    "def get_time():\n",
    "\n",
    "    hours = int(input(\"HOURS : \"))\n",
    "    mins = int(input(\"MINUTES : \"))\n",
    "    secs = int(input(\"SECONDS : \"))\n",
    "    \n",
    "    return [hours, mins, secs]\n",
    "    \n",
    "    pass\n",
    "\n",
    "\n",
    "def get_total_secs(hours, mins, secs):\n",
    "    \n",
    "    total_secs = hours*60*60 + mins*60 + secs    \n",
    "    return total_secs\n",
    "    \n",
    "    pass\n",
    "\n",
    "\n",
    "def get_total_mins(hours, mins, secs):\n",
    "    \n",
    "    total_mins = hours*60 + mins + int(secs/60)\n",
    "    return total_mins\n",
    "    \n",
    "    pass\n",
    "\n",
    "\n",
    "def get_total_hours(hours, mins, secs):\n",
    "    \n",
    "    total_hours = hours + int(mins/60) + int((secs/60)/60)\n",
    "    return total_hours  \n",
    "        \n",
    "    pass\n",
    "\n",
    "\n",
    "time = get_time()\n",
    "\n",
    "\n",
    "print(\"TOTAL SECONDS : \" + str(get_total_secs(time[0], time[1], time[2])))\n",
    "print(\"TOTAL MINUTES : \" + str(get_total_mins(time[0], time[1], time[2])))\n"
   ]
  },
  {
   "cell_type": "markdown",
   "metadata": {},
   "source": [
    "## EXERCICE 6 et 7:"
   ]
  },
  {
   "cell_type": "code",
   "execution_count": 5,
   "metadata": {},
   "outputs": [
    {
     "name": "stdout",
     "output_type": "stream",
     "text": [
      "HOURS : 10\n",
      "MINUTES : 4\n",
      "SECONDS : 5\n",
      "HOURS : 2\n",
      "MINUTES : 35\n",
      "SECONDS : 5\n",
      "DIFF SECS : 26940\n",
      "DIFF MINS : 449\n",
      "DIFF HOURS : 8\n"
     ]
    }
   ],
   "source": [
    "time1 = get_time()\n",
    "time2 = get_time()\n",
    "\n",
    "secs1 = get_total_secs(time1[0], time1[1], time1[2])\n",
    "secs2 = get_total_secs(time2[0], time2[1], time2[2])\n",
    "\n",
    "mins1 = get_total_mins(time1[0], time1[1], time1[2])\n",
    "mins2 = get_total_mins(time2[0], time2[1], time2[2])\n",
    "\n",
    "hours1 = get_total_hours(time1[0], time1[1], time1[2])\n",
    "hours2 = get_total_hours(time2[0], time2[1], time2[2])\n",
    "\n",
    "\n",
    "print(\"DIFF SECS : \" + str(secs1-secs2 if secs1 > secs2 else secs2 - secs1))\n",
    "print(\"DIFF MINS : \" + str(mins1-mins2 if mins1 > mins2 else mins2 - mins1))\n",
    "print(\"DIFF HOURS : \" + str(hours1-hours2 if hours1 > hours2 else hours2 - hours1))\n"
   ]
  },
  {
   "cell_type": "markdown",
   "metadata": {},
   "source": [
    "## EXERCICE 8:"
   ]
  },
  {
   "cell_type": "code",
   "execution_count": 6,
   "metadata": {},
   "outputs": [
    {
     "name": "stdout",
     "output_type": "stream",
     "text": [
      "NUM1 : 10\n",
      "NUM2 : 4\n",
      "SMALL : 4\n",
      "BIG : 10\n"
     ]
    }
   ],
   "source": [
    "small = int(input(\"NUM1 : \"))\n",
    "big = int(input(\"NUM2 : \"))\n",
    "\n",
    "small, big = [small, big] if small < big else [big, small]\n",
    "\n",
    "\n",
    "print(\"SMALL : \" + str(small))\n",
    "print(\"BIG : \" + str(big))"
   ]
  },
  {
   "cell_type": "markdown",
   "metadata": {},
   "source": [
    "## EXERCICE 9:"
   ]
  },
  {
   "cell_type": "code",
   "execution_count": 7,
   "metadata": {},
   "outputs": [],
   "source": [
    "def read_n_num(n = 3):\n",
    "    \n",
    "    nums = [int(input(\"NUM\" + str(i+1) + \":\")) for i in range(n)]\n",
    "    return nums\n",
    "\n",
    "    pass\n"
   ]
  },
  {
   "cell_type": "code",
   "execution_count": 8,
   "metadata": {},
   "outputs": [
    {
     "name": "stdout",
     "output_type": "stream",
     "text": [
      "NUM1:1\n",
      "NUM2:60\n",
      "NUM3:2\n",
      "NUM4:30\n"
     ]
    },
    {
     "data": {
      "text/plain": [
       "[1, 2, 30, 60]"
      ]
     },
     "execution_count": 8,
     "metadata": {},
     "output_type": "execute_result"
    }
   ],
   "source": [
    "sorted_nums_list = read_n_num(4)\n",
    "sorted_nums_list.sort()\n",
    "sorted_nums_list"
   ]
  },
  {
   "cell_type": "markdown",
   "metadata": {},
   "source": [
    "## EXERCICE 10: "
   ]
  },
  {
   "cell_type": "code",
   "execution_count": null,
   "metadata": {},
   "outputs": [],
   "source": [
    "\n",
    "def price_reasoning(X):\n",
    "    \n",
    "    # i'm lazy to construct the whole tree\n",
    "    price = 0\n",
    "    return price\n",
    "    \n",
    "    pass\n",
    "\n",
    "\n",
    "\n",
    "\n",
    "X = [\n",
    "    bool(input(\"SKIS AVEC CHAUSSURE?\")), \n",
    "    bool(input(\"A LA JOURNEE?\")), \n",
    "    bool(input(\"ADULTE?\"))\n",
    "]\n",
    "\n",
    "\n",
    "\n"
   ]
  },
  {
   "cell_type": "markdown",
   "metadata": {},
   "source": [
    "## EXERCICE 11 :"
   ]
  },
  {
   "cell_type": "code",
   "execution_count": 9,
   "metadata": {},
   "outputs": [
    {
     "name": "stdout",
     "output_type": "stream",
     "text": [
      "VAL : 10\n",
      "POW : 4\n",
      "THE 4th POWER OF 10 IS 10000\n"
     ]
    }
   ],
   "source": [
    "\n",
    "# pow()\n",
    "def pow_n(i, n):    \n",
    "    return 1 if n == 0 else pow_n(i, n - 1) * i\n",
    "\n",
    "i = int(input(\"VAL : \"))\n",
    "n = int(input(\"POW : \"))\n",
    "\n",
    "print(\"THE \" + str(n) + \"th POWER OF \" + str(i) + \" IS \" + str(pow_n(i, n)))\n"
   ]
  },
  {
   "cell_type": "code",
   "execution_count": null,
   "metadata": {},
   "outputs": [],
   "source": []
  },
  {
   "cell_type": "code",
   "execution_count": null,
   "metadata": {},
   "outputs": [],
   "source": []
  },
  {
   "cell_type": "code",
   "execution_count": null,
   "metadata": {},
   "outputs": [],
   "source": []
  },
  {
   "cell_type": "code",
   "execution_count": null,
   "metadata": {},
   "outputs": [],
   "source": []
  }
 ],
 "metadata": {
  "kernelspec": {
   "display_name": "Python 3",
   "language": "python",
   "name": "python3"
  },
  "language_info": {
   "codemirror_mode": {
    "name": "ipython",
    "version": 3
   },
   "file_extension": ".py",
   "mimetype": "text/x-python",
   "name": "python",
   "nbconvert_exporter": "python",
   "pygments_lexer": "ipython3",
   "version": "3.7.0"
  }
 },
 "nbformat": 4,
 "nbformat_minor": 2
}
