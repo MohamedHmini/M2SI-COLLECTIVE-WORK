{
 "cells": [
  {
   "cell_type": "markdown",
   "metadata": {},
   "source": [
    "## EXERCICE 1: (MATH)"
   ]
  },
  {
   "cell_type": "code",
   "execution_count": null,
   "metadata": {},
   "outputs": [],
   "source": [
    "i = int(input())\n",
    "j = ''\n",
    "\n",
    "while i is not 0:\n",
    "    \n",
    "    j += str(i%10)\n",
    "    i = int(i/10)\n",
    "    \n",
    "    pass\n",
    "\n",
    "j = int(j)\n",
    "\n",
    "print(j)"
   ]
  },
  {
   "cell_type": "markdown",
   "metadata": {},
   "source": [
    "## EXERCICE 1: (IMPLEMENTATION => strings)"
   ]
  },
  {
   "cell_type": "code",
   "execution_count": null,
   "metadata": {},
   "outputs": [],
   "source": [
    "i = input()\n",
    "print(i[::-1])"
   ]
  },
  {
   "cell_type": "markdown",
   "metadata": {},
   "source": [
    "## EXERCICE 2:"
   ]
  },
  {
   "cell_type": "code",
   "execution_count": 6,
   "metadata": {},
   "outputs": [
    {
     "data": {
      "text/plain": [
       "[1, 2, 3, 4, 5, 6, 8, 9, 10, 12]"
      ]
     },
     "execution_count": 6,
     "metadata": {},
     "output_type": "execute_result"
    }
   ],
   "source": [
    "\n",
    "# test if a number n is a hamming number : \n",
    "def hamming_nbr(n):\n",
    "    \n",
    "    is_hamming = False\n",
    "    if n == 1:        \n",
    "        return True;\n",
    "    \n",
    "    for i in [2,3,5]:        \n",
    "        if n%i == 0:\n",
    "            is_hamming = hamming_nbr(n//i)\n",
    "        else:\n",
    "            continue;\n",
    "        pass\n",
    "    \n",
    "    return is_hamming    \n",
    "    \n",
    "    pass\n",
    "\n",
    "\n",
    "# generate n hamming numbers : \n",
    "def get_n_hammings(n):\n",
    "    i = 2\n",
    "    hammings = [1]\n",
    "    \n",
    "    while len(hammings) < n:\n",
    "        \n",
    "        if hamming_nbr(i):\n",
    "            hammings.append(i)\n",
    "        i += 1\n",
    "        \n",
    "        pass\n",
    "    \n",
    "    return hammings\n",
    "    \n",
    "    pass\n",
    "\n",
    "\n",
    "get_n_hammings(10)"
   ]
  },
  {
   "cell_type": "markdown",
   "metadata": {},
   "source": [
    "## EXERCICE 3:"
   ]
  },
  {
   "cell_type": "code",
   "execution_count": 33,
   "metadata": {},
   "outputs": [
    {
     "name": "stdout",
     "output_type": "stream",
     "text": [
      "INITIAL NUMBER OF RABBITS : 2\n",
      "MONTHS : 60\n",
      "ITER 1 : {48: 0, 42: 0, 36: 0, 30: 0, 24: 0, 18: 0, 12: 0, 6: 2, 0: 0}\n",
      "ITER 2 : {48: 0, 42: 0, 36: 0, 30: 0, 24: 0, 18: 0, 12: 2, 6: 0, 0: 0}\n",
      "ITER 3 : {48: 0, 42: 0, 36: 0, 30: 0, 24: 0, 18: 2, 12: 0, 6: 0, 0: 4}\n",
      "ITER 4 : {48: 0, 42: 0, 36: 0, 30: 0, 24: 2, 18: 0, 12: 0, 6: 4, 0: 4}\n",
      "ITER 5 : {48: 0, 42: 0, 36: 0, 30: 2, 24: 0, 18: 0, 12: 4, 6: 4, 0: 4}\n",
      "ITER 6 : {48: 0, 42: 0, 36: 2, 30: 0, 24: 0, 18: 4, 12: 4, 6: 4, 0: 12}\n",
      "ITER 7 : {48: 0, 42: 2, 36: 0, 30: 0, 24: 4, 18: 4, 12: 4, 6: 12, 0: 20}\n",
      "ITER 8 : {48: 2, 42: 0, 36: 0, 30: 4, 24: 4, 18: 4, 12: 12, 6: 20, 0: 28}\n",
      "ITER 9 : {48: 0, 42: 0, 36: 4, 30: 4, 24: 4, 18: 12, 12: 20, 6: 28, 0: 48}\n",
      "ITER 10 : {48: 0, 42: 4, 36: 4, 30: 4, 24: 12, 18: 20, 12: 28, 6: 48, 0: 88}\n",
      "TOTAL POPULATION : 208\n"
     ]
    }
   ],
   "source": [
    "from functools import reduce\n",
    "\n",
    "# def rabbits_nbr(couples, end_pt = 0):\n",
    "    \n",
    "#     current_pt = 0\n",
    "#     nbr_of_rabbits = len(couples)*2\n",
    "    \n",
    "#     while current_pt < end_pt:\n",
    "#         for i in range(len(couples)) : \n",
    "#             if couples[i] > 48:\n",
    "#                 couples.remove(couples[i])\n",
    "#                 continue;\n",
    "#                 pass\n",
    "            \n",
    "#             if 6 <= couples[i] <= 48:\n",
    "#                 couples.extend([0]*4)\n",
    "#                 nbr_of_rabbits += 4\n",
    "#                 pass\n",
    "            \n",
    "#             couples[i] += 6            \n",
    "            \n",
    "#             pass\n",
    "        \n",
    "#         current_pt += 6\n",
    "        \n",
    "#         pass\n",
    "    \n",
    "#     return nbr_of_rabbits\n",
    "    \n",
    "#     pass\n",
    "\n",
    "\n",
    "\n",
    "# def count_rabbits(couples, end_pt = 0):\n",
    "    \n",
    "#     current_pt = 0\n",
    "#     nbr_of_rabbits = reduce(lambda x,y: x+y, list(couples.values()))\n",
    "#     print(\"ITER {} : {}\".format(current_pt//6, couples))\n",
    "#     while current_pt < end_pt:\n",
    "        \n",
    "#         # let the population grow : \n",
    "#         for age, rabbits in couples.items():\n",
    "            \n",
    "#             if age < 48:\n",
    "#                 couples[age + 6] += couples[age]\n",
    "#                 pass\n",
    "            \n",
    "#             couples[age] = 0\n",
    "        \n",
    "#             pass\n",
    "        \n",
    "#         # reproduce the next generation : \n",
    "#         couples[0] += reduce(\n",
    "#             lambda x,y: x+y, \n",
    "#             map(\n",
    "#                 lambda v: v*2, \n",
    "#                 list(couples.values())[:-3]\n",
    "#             )\n",
    "#         )\n",
    "        \n",
    "#         nbr_of_rabbits += couples[0]\n",
    "#         current_pt += 6\n",
    "#         print(\"ITER {} : {}\".format(current_pt//6, couples))\n",
    "#         pass\n",
    "    \n",
    "    \n",
    "#     return nbr_of_rabbits\n",
    "#     pass\n",
    "\n",
    "\n",
    "def reproduce(p, t):\n",
    "\n",
    "    bound = t//6\n",
    "    t = bound\n",
    "\n",
    "    while t > 0:\n",
    "        r = 0\n",
    "        for age,tp in list(p.items())[:-1]:\n",
    "            p[age] = 0 \n",
    "            p[age] = p[age - 6] \n",
    "            if age >= 18:\n",
    "                r += p[age - 6] \n",
    "        p[0] = 2*r\n",
    "        print(\"ITER {} : {}\".format(bound - t + 1,p))\n",
    "        t -= 1\n",
    "\n",
    "    \n",
    "    \n",
    "    print(\"TOTAL POPULATION : {}\".format(sum([j for i,j in p.items()] )))\n",
    "    pass\n",
    "\n",
    "\n",
    "\n",
    "def init_count_rabbits():\n",
    "    return {key: 0 for key in range(48, -6, -6)}   \n",
    "    pass\n",
    "\n",
    "\n",
    "total_population = init_count_rabbits()\n",
    "total_population[0] = int(input(\"INITIAL NUMBER OF RABBITS : \"))\n",
    "\n",
    "reproduce(total_population, int(input(\"MONTHS : \")))"
   ]
  },
  {
   "cell_type": "markdown",
   "metadata": {},
   "source": [
    "## EXERCICE 8:"
   ]
  },
  {
   "cell_type": "code",
   "execution_count": 40,
   "metadata": {},
   "outputs": [
    {
     "name": "stdout",
     "output_type": "stream",
     "text": [
      "[]\n",
      "[1]\n",
      "[1, 2]\n",
      "[1, 2, 5]\n",
      "[1, 2, 5, 6]\n",
      "[1, 2, 5, 6, 7]\n",
      "[1, 2, 5, 6, 7, 8]\n"
     ]
    },
    {
     "data": {
      "text/plain": [
       "[1, 2, 5, 6, 7, 8, 9, 10]"
      ]
     },
     "execution_count": 40,
     "metadata": {},
     "output_type": "execute_result"
    }
   ],
   "source": [
    "def merge(i,j):\n",
    "    \n",
    "    r = []\n",
    "    li = len(i)\n",
    "    lj = len(j)\n",
    "    \n",
    "    k = 0\n",
    "    m = 0\n",
    "    \n",
    "    while True:\n",
    "        print(r)\n",
    "        \n",
    "        if m >= lj:\n",
    "            r.extend(i[k:])\n",
    "            break;\n",
    "        elif k >= li:\n",
    "            r.extend(j[m:])\n",
    "            break;\n",
    "        \n",
    "        if i[k] >= j[m]:\n",
    "            r.append(j[m])\n",
    "            m += 1\n",
    "        elif i[k] < j[m]:\n",
    "            r.append(i[k])\n",
    "            k += 1\n",
    "        \n",
    "        pass\n",
    "    \n",
    "    return r\n",
    "    \n",
    "    pass\n",
    "\n",
    "\n",
    "merge([1,2,9,10],[5,6,7,8])"
   ]
  },
  {
   "cell_type": "markdown",
   "metadata": {},
   "source": [
    "## EXERCICE 9:"
   ]
  },
  {
   "cell_type": "code",
   "execution_count": 105,
   "metadata": {},
   "outputs": [
    {
     "data": {
      "text/plain": [
       "[1, 4, 12, 27, 43, 53, 46, 24]"
      ]
     },
     "execution_count": 105,
     "metadata": {},
     "output_type": "execute_result"
    }
   ],
   "source": [
    "def derive(p):\n",
    "    d = p.copy()\n",
    "    d.pop(len(p) - 1)\n",
    "    for i in range(len(d)):\n",
    "        d[i] = d[i] * (i + 1)\n",
    "    return d\n",
    "\n",
    "\n",
    "def p_sum(i,j):\n",
    "    ic = i.copy()\n",
    "    jc = j.copy()\n",
    "    li = len(i)\n",
    "    lj = len(j)\n",
    "    \n",
    "    if li > lj:\n",
    "        jc.extend([0]*(li - lj))\n",
    "    elif lj > li:\n",
    "        ic.extend([0]*(lj - li))\n",
    "    \n",
    "    s = list(map(lambda x: sum(x), zip(ic,jc)))\n",
    "    \n",
    "    return s\n",
    "\n",
    "\n",
    "\n",
    "def multiply(i,j):\n",
    "    m = []\n",
    "    \n",
    "    for k in range(len(i)):\n",
    "        nl = [0]*k\n",
    "        nl.extend(list(map(lambda x: x*i[k], j)))\n",
    "        m = p_sum(m, nl) if len(m) > 0 else nl\n",
    "    \n",
    "    return m\n",
    "             \n",
    "    \n",
    "    \n",
    "derive([1,4,5,3])\n",
    "p_sum([1,2,3,4],[1,2,5,7,6])\n",
    "multiply([1,2,3,4],[1,2,5,7,6])"
   ]
  },
  {
   "cell_type": "markdown",
   "metadata": {},
   "source": [
    "## EXERCICE 10:"
   ]
  },
  {
   "cell_type": "code",
   "execution_count": 28,
   "metadata": {},
   "outputs": [
    {
     "name": "stdout",
     "output_type": "stream",
     "text": [
      "[0, 0, 0, 0, 0, 0, 0, 0, 0, 0, 0, 0, 0, 0, 0, 0, 0, 0, 0, 0, 0, 0, 0, 0, 0, 0, 0, 0, 0, 0, 0, 0, 0, 0, 0, 0, 1, 1, 1, 1, 1, 1, 1, 1, 1, 1, 1, 1, 1, 1, 1, 1, 1, 1, 1, 1, 1, 1, 1, 1, 1, 1, 1, 1, 1, 1, 1, 1, 1, 1, 1, 2, 2, 2, 2, 2, 2, 2, 2, 2, 2, 2, 2, 2, 2, 2, 2, 2, 2, 2, 2, 2, 2, 2, 2, 2, 2, 2, 2, 2]\n"
     ]
    }
   ],
   "source": [
    "import random as rd\n",
    "l = [rd.randint(0,2) for i in range(100)]\n",
    "nl = [[],[],[]]\n",
    "\n",
    "for i in range(len(l)):\n",
    "#     print(nl)\n",
    "    for j in [0,1,2]:\n",
    "        if l[i] == j:\n",
    "            nl[j].append(j)\n",
    "    pass\n",
    "\n",
    "r = []\n",
    "\n",
    "for i in nl:\n",
    "    r.extend(i)\n",
    "\n",
    "print(r)"
   ]
  },
  {
   "cell_type": "code",
   "execution_count": null,
   "metadata": {},
   "outputs": [],
   "source": []
  }
 ],
 "metadata": {
  "kernelspec": {
   "display_name": "Python 3",
   "language": "python",
   "name": "python3"
  },
  "language_info": {
   "codemirror_mode": {
    "name": "ipython",
    "version": 3
   },
   "file_extension": ".py",
   "mimetype": "text/x-python",
   "name": "python",
   "nbconvert_exporter": "python",
   "pygments_lexer": "ipython3",
   "version": "3.7.0"
  }
 },
 "nbformat": 4,
 "nbformat_minor": 2
}
