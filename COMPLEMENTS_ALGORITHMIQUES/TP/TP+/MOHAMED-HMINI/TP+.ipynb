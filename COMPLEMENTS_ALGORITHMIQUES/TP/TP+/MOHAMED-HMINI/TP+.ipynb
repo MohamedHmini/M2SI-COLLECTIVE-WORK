{
 "cells": [
  {
   "cell_type": "markdown",
   "metadata": {},
   "source": [
    "## EXERCICE 1/2:"
   ]
  },
  {
   "cell_type": "code",
   "execution_count": null,
   "metadata": {},
   "outputs": [],
   "source": [
    "used_combs = []\n",
    "\n",
    "def not_used(comb, used_combs):\n",
    "    return not(comb in used_combs)   \n",
    "    pass\n",
    "\n",
    "def roll_dice(n, nbd, comb):\n",
    "    \n",
    "    new_comb = comb.copy()\n",
    "    sorted_new_comb = sorted(new_comb)\n",
    "    _not_used = not_used(sorted_new_comb, used_combs)\n",
    "\n",
    "    if not _not_used :\n",
    "        return 0\n",
    "    \n",
    "    used_combs.append(sorted_new_comb)    \n",
    "    total_sum = sum(new_comb)\n",
    "\n",
    "    s = 1 if total_sum == n else 0    \n",
    "    \n",
    "    if s == 0:\n",
    "        for i in range(nbd):\n",
    "            if comb[i] < 6:\n",
    "                new_comb[i] += 1\n",
    "                s += roll_dice(n, nbd, new_comb)\n",
    "            \n",
    "            \n",
    "    return s\n",
    "    \n",
    "    pass\n",
    "\n",
    "if __name__ == \"__main__\":\n",
    "    n, nbd = int(input(\"LOOK FOR NUMBER : \")), int(input(\"NUMBER OF DICES : \"))\n",
    "    len_slt_space = roll_dice(n, nbd, [1]*nbd)\n",
    "    print(\"LENGTH OF THE SOLUTION SPACE : \" + str(len_slt_space))\n",
    "    #print(\"SOLUTION SPACE : \" + str(combs))"
   ]
  },
  {
   "cell_type": "markdown",
   "metadata": {},
   "source": [
    "## EXERCICE 3:"
   ]
  },
  {
   "cell_type": "code",
   "execution_count": null,
   "metadata": {},
   "outputs": [],
   "source": [
    "def count_sub_seqs(seq, subseq):\n",
    "    \n",
    "    i = 0\n",
    "    counts = 0\n",
    "    lseq = len(seq)\n",
    "    lsubseq = len(subseq)\n",
    "    \n",
    "    while i+lsubseq < lseq:\n",
    "        \n",
    "        if seq[i:i+lsubseq] == subseq:\n",
    "            \n",
    "            counts+= 1\n",
    "            \n",
    "            pass\n",
    "        \n",
    "        i += 1\n",
    "        \n",
    "        pass\n",
    "    \n",
    "    return counts\n",
    "    \n",
    "    pass\n",
    "\n",
    "\n",
    "count_sub_seqs(input(\"SEQ:\"), input(\"SUBSEQ : \"))"
   ]
  },
  {
   "cell_type": "markdown",
   "metadata": {},
   "source": [
    "## EXERCICE 4:"
   ]
  },
  {
   "cell_type": "code",
   "execution_count": null,
   "metadata": {},
   "outputs": [],
   "source": [
    "def __dict_to_list(token):\n",
    "    \n",
    "    return list(token.keys()), list(token.values())\n",
    "    \n",
    "    pass\n",
    "\n",
    "def __list_to_dict(token):\n",
    "    return dict(enumerate(token)) \n",
    "    pass\n",
    "\n",
    "def trans(token):\n",
    "    transed = []\n",
    "    t = type(token)\n",
    "    \n",
    "    if t == type(dict()):\n",
    "        transed = __dict_to_list(token)\n",
    "    else:\n",
    "        transed = __list_to_dict(token)\n",
    "    \n",
    "    return transed\n",
    "    \n",
    "    pass\n",
    "\n",
    "\n",
    "trans({0: 1, 1: 5, 2: 5, 3: 6, 4: 9, 5: 87})"
   ]
  },
  {
   "cell_type": "markdown",
   "metadata": {},
   "source": [
    "## EXERCICE 5:"
   ]
  },
  {
   "cell_type": "code",
   "execution_count": null,
   "metadata": {},
   "outputs": [],
   "source": [
    "def binary_search(l, val):\n",
    "    \n",
    "    ll = len(l)\n",
    "    imin = 0\n",
    "    imax = ll\n",
    "    pivot = int(ll/2)\n",
    "    found = False\n",
    "    \n",
    "    while imin is not imax:\n",
    "        \n",
    "        if val > l[pivot]:\n",
    "            imin = pivot\n",
    "        elif val < l[pivot]:\n",
    "            imax = pivot\n",
    "        elif val == l[pivot]:\n",
    "            found = True\n",
    "            break;\n",
    "        pivot = int((imin + imax)/2)\n",
    " \n",
    "        pass\n",
    "    \n",
    "    return pivot\n",
    "    \n",
    "    pass\n",
    "\n",
    "\n",
    "binary_search([1,2,3,4,5,7,8,345,2],345)"
   ]
  },
  {
   "cell_type": "markdown",
   "metadata": {},
   "source": [
    "## EXERCICE 6:"
   ]
  },
  {
   "cell_type": "code",
   "execution_count": null,
   "metadata": {},
   "outputs": [],
   "source": [
    "def contains(nbr, digit):\n",
    "    return str(digit) in str(nbr)    \n",
    "    pass\n",
    "\n",
    "contains(587452, 8)"
   ]
  },
  {
   "cell_type": "markdown",
   "metadata": {},
   "source": [
    "## EXERCICE 7:"
   ]
  },
  {
   "cell_type": "code",
   "execution_count": null,
   "metadata": {},
   "outputs": [],
   "source": [
    "def count_digits(nbr, digit):\n",
    "    return list(str(nbr)).count(str(digit))\n",
    "    pass\n",
    "\n",
    "count_digits(43524, 4)"
   ]
  },
  {
   "cell_type": "markdown",
   "metadata": {},
   "source": [
    "## EXERCICE 8:"
   ]
  },
  {
   "cell_type": "code",
   "execution_count": 19,
   "metadata": {},
   "outputs": [
    {
     "name": "stdout",
     "output_type": "stream",
     "text": [
      "[[1, 2, 3], [2, 1, 3], [3, 2, 1], [2, 3, 1]]\n"
     ]
    }
   ],
   "source": [
    "used_combs = []\n",
    "\n",
    "def get_combs(comb, comb_len, j = 0):\n",
    "    \n",
    "    if comb in used_combs:\n",
    "        return \n",
    "    \n",
    "    used_combs.append(comb)\n",
    "    \n",
    "    for i in range(comb_len):\n",
    "        new_comb = comb.copy()\n",
    "        new_comb[i], new_comb[j] = new_comb[j], new_comb[i]\n",
    "        get_combs(new_comb, i)\n",
    "    \n",
    "    pass\n",
    "\n",
    "get_combs([1,2,3], 3)\n",
    "print(used_combs)"
   ]
  }
 ],
 "metadata": {
  "kernelspec": {
   "display_name": "Python 3",
   "language": "python",
   "name": "python3"
  },
  "language_info": {
   "codemirror_mode": {
    "name": "ipython",
    "version": 3
   },
   "file_extension": ".py",
   "mimetype": "text/x-python",
   "name": "python",
   "nbconvert_exporter": "python",
   "pygments_lexer": "ipython3",
   "version": "3.7.0"
  }
 },
 "nbformat": 4,
 "nbformat_minor": 2
}
